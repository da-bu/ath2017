{
 "cells": [
  {
   "cell_type": "markdown",
   "metadata": {
    "collapsed": true,
    "deletable": true,
    "editable": true
   },
   "source": [
    "# ATH 2017: Test Your Setup\n",
    "\n",
    "Run the cell below. You should not get any error message (but you can ignore any \"UserWarnings\"). In particular, there should not be any messages about missing modules or packages. Running the cell might take several seconds. Once completed, it should print \"Hello World! :)\" below the cell.\n",
    "\n",
    "To install missing packages and assuming you have Anaconda, open a console and run: **conda install packagename**\n",
    "\n",
    "Also see the setup instructions document."
   ]
  },
  {
   "cell_type": "code",
   "execution_count": null,
   "metadata": {
    "collapsed": false,
    "deletable": true,
    "editable": true
   },
   "outputs": [],
   "source": [
    "%load_ext autoreload\n",
    "%matplotlib inline\n",
    "from IPython.core.display import display, HTML\n",
    "display(HTML(open('css/notebook.html').read()))\n",
    "import numpy as np\n",
    "import pandas as pd\n",
    "import matplotlib.pyplot as plt\n",
    "import seaborn as sns\n",
    "import itertools\n",
    "import math\n",
    "import random\n",
    "import scipy\n",
    "from touchML.models.GPOffsetModel import GPOffsetModel\n",
    "from notebook_code.keyboard_optimisation import create_key_locations, plot_keyboard, wpm\n",
    "sns.set_context('notebook')\n",
    "\n",
    "plt.figure()\n",
    "plt.title('A test figure with random points')\n",
    "plt.scatter(np.random.random(100), np.random.random(100))\n",
    "plt.show()\n",
    "print 'Hello World! :)'"
   ]
  },
  {
   "cell_type": "markdown",
   "metadata": {
    "deletable": true,
    "editable": true
   },
   "source": [
    "Feedback or comments? I'd love to hear from you! Get in touch at: daniel.buschek@ifi.lmu.de\n"
   ]
  }
 ],
 "metadata": {
  "anaconda-cloud": {},
  "kernelspec": {
   "display_name": "Python [default]",
   "language": "python",
   "name": "python2"
  },
  "language_info": {
   "codemirror_mode": {
    "name": "ipython",
    "version": 2
   },
   "file_extension": ".py",
   "mimetype": "text/x-python",
   "name": "python",
   "nbconvert_exporter": "python",
   "pygments_lexer": "ipython2",
   "version": "2.7.12"
  }
 },
 "nbformat": 4,
 "nbformat_minor": 0
}
